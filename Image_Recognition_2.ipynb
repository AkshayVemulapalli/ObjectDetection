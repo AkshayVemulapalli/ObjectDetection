{
  "nbformat": 4,
  "nbformat_minor": 0,
  "metadata": {
    "accelerator": "GPU",
    "colab": {
      "provenance": [],
      "collapsed_sections": []
    },
    "kernelspec": {
      "display_name": "Python 3",
      "language": "python",
      "name": "python3"
    },
    "language_info": {
      "codemirror_mode": {
        "name": "ipython",
        "version": 3
      },
      "file_extension": ".py",
      "mimetype": "text/x-python",
      "name": "python",
      "nbconvert_exporter": "python",
      "pygments_lexer": "ipython3",
      "version": "3.8.2"
    }
  },
  "cells": [
    {
      "cell_type": "markdown",
      "metadata": {
        "id": "Sq-JhCcLpBwS"
      },
      "source": [
        "#Conscientious Cars 2: Convolutional Neural Nets\n",
        "\n",
        "Welcome back to CC: ConscientiousCars! Today, we'll be improving on our system for distinguishing dogs from roads, so we can keep these cute puppies safe."
      ]
    },
    {
      "cell_type": "code",
      "metadata": {
        "id": "uhNVum16scIW"
      },
      "source": [
        "#@title Run this to load some packages and data! { display-mode: \"form\" }\n",
        "from sklearn.neural_network import MLPClassifier\n",
        "from sklearn.neighbors import KNeighborsClassifier\n",
        "from sklearn import model_selection\n",
        "from sklearn.metrics import accuracy_score\n",
        "from collections import Counter\n",
        "import tensorflow.keras as keras\n",
        "from keras.models import Sequential\n",
        "from keras.layers import Dense, Conv2D, InputLayer\n",
        "from keras.layers import Activation, MaxPooling2D, Dropout, Flatten, Reshape\n",
        "from keras.utils.np_utils import to_categorical \n",
        "from keras.wrappers.scikit_learn import KerasClassifier\n",
        "from sklearn.model_selection import StratifiedKFold\n",
        "from sklearn.model_selection import cross_val_score\n",
        "import numpy as np\n",
        "import pandas as pd\n",
        "import seaborn as sns\n",
        "import matplotlib.pyplot as plt\n",
        "\n",
        "\n",
        "def categorical_to_numpy(labels_in):\n",
        "  labels = []\n",
        "  for label in labels_in:\n",
        "    if label == 'dog':\n",
        "      labels.append(np.array([1, 0]))\n",
        "    else:\n",
        "      labels.append(np.array([0, 1]))\n",
        "  return np.array(labels)\n",
        "\n",
        "\n",
        "def load_data():\n",
        "  # Run this cell to download our data into a file called 'cifar_data'\n",
        "  import gdown\n",
        "  # gdown.download('https://drive.google.com/uc?id=1-BjeqccJdLiBA6PnNinmXSQ6w5BluLem','cifar_data','True'); # dogs v road;\n",
        "  !wget -O cifar_data https://storage.googleapis.com/inspirit-ai-data-bucket-1/Data/AI%20Scholars/Sessions%201%20-%205/Session%204%20_%205%20-%20Neural%20Networks%20_%20CNN/dogs_v_roads\n",
        "\n",
        "  # now load the data from our cloud computer\n",
        "  import pickle\n",
        "  data_dict = pickle.load(open( \"cifar_data\", \"rb\" ));\n",
        "  \n",
        "  data   = data_dict['data']\n",
        "  labels = data_dict['labels']\n",
        "  \n",
        "  return data, labels\n",
        "\n",
        "def plot_one_image(data, labels, img_idx):\n",
        "  from google.colab.patches import cv2_imshow\n",
        "  import cv2\n",
        "  import matplotlib.pyplot as plt\n",
        "  my_img   = data[img_idx, :].squeeze().reshape([32,32,3]).copy()\n",
        "  my_label = labels[img_idx]\n",
        "  print('label: %s'%my_label)\n",
        "  plt.imshow(my_img)\n",
        "  plt.show()\n",
        "  \n",
        "def CNNClassifier(num_epochs=2, layers=1, dropout=0.15):\n",
        "  def create_model():\n",
        "    model = Sequential()\n",
        "    model.add(Reshape((32, 32, 3)))\n",
        "    \n",
        "    for i in range(layers):\n",
        "      model.add(Conv2D(32, (3, 3), padding='same'))\n",
        "      model.add(Activation('relu'))\n",
        "    \n",
        "    model.add(Conv2D(32, (3, 3)))\n",
        "    model.add(Activation('relu'))\n",
        "    model.add(MaxPooling2D(pool_size=(2, 2)))\n",
        "    model.add(Dropout(dropout))\n",
        "\n",
        "    model.add(Conv2D(64, (3, 3), padding='same'))\n",
        "    model.add(Activation('relu'))\n",
        "    model.add(Conv2D(64, (3, 3)))\n",
        "    model.add(Activation('relu'))\n",
        "    model.add(MaxPooling2D(pool_size=(2, 2)))\n",
        "    model.add(Dropout(dropout))\n",
        "\n",
        "    model.add(Flatten())\n",
        "    model.add(Dense(512))\n",
        "    model.add(Activation('relu'))\n",
        "    model.add(Dropout(dropout))\n",
        "    model.add(Dense(2))\n",
        "    model.add(Activation('softmax'))\n",
        "\n",
        "    # initiate RMSprop optimizer\n",
        "    opt = keras.optimizers.RMSprop(learning_rate=0.0001, decay=1e-6)\n",
        "\n",
        "    # Let's train the model using RMSprop\n",
        "    model.compile(loss='categorical_crossentropy',\n",
        "                  optimizer=opt,\n",
        "                  metrics=['accuracy'])\n",
        "    return model\n",
        "  return KerasClassifier(build_fn=create_model, epochs=num_epochs, batch_size=10, verbose=2)\n",
        "\n",
        "def plot_acc(history, ax = None, xlabel = 'Epoch #'):\n",
        "    history = history.history\n",
        "    history.update({'epoch':list(range(len(history['val_accuracy'])))})\n",
        "    history = pd.DataFrame.from_dict(history)\n",
        "\n",
        "    best_epoch = history.sort_values(by = 'val_accuracy', ascending = False).iloc[0]['epoch']\n",
        "\n",
        "    if not ax:\n",
        "      f, ax = plt.subplots(1,1)\n",
        "    sns.lineplot(x = 'epoch', y = 'val_accuracy', data = history, label = 'Validation', ax = ax)\n",
        "    sns.lineplot(x = 'epoch', y = 'accuracy', data = history, label = 'Training', ax = ax)\n",
        "    ax.axhline(0.5, linestyle = '--',color='red', label = 'Chance')\n",
        "    ax.axvline(x = best_epoch, linestyle = '--', color = 'green', label = 'Best Epoch')  \n",
        "    ax.legend(loc = 7)    \n",
        "    ax.set_ylim([0.4, 1])\n",
        "\n",
        "    ax.set_xlabel(xlabel)\n",
        "    ax.set_ylabel('Accuracy (Fraction)')\n",
        "    \n",
        "    plt.show()\n",
        "    \n",
        "def model_to_string(model):\n",
        "    import re\n",
        "    stringlist = []\n",
        "    model.summary(print_fn=lambda x: stringlist.append(x))\n",
        "    sms = \"\\n\".join(stringlist)\n",
        "    sms = re.sub('_\\d\\d\\d','', sms)\n",
        "    sms = re.sub('_\\d\\d','', sms)\n",
        "    sms = re.sub('_\\d','', sms)  \n",
        "    return sms"
      ],
      "execution_count": null,
      "outputs": []
    },
    {
      "cell_type": "markdown",
      "metadata": {
        "id": "wkseZ14ms7vs"
      },
      "source": [
        "In this notebook, we will:\n",
        "\n",
        "- Use a pre-built CNN function to classify roads vs. dogs.\n",
        "- Build neural networks from scratch in Keras.\n",
        "- Experiment with building CNN models from scratch in Keras.\n",
        "- (Advanced, Optional) Build CNN models for distinguishing cats from dogs, and even experiment with implementing a famous architecture!\n"
      ]
    },
    {
      "cell_type": "markdown",
      "metadata": {
        "id": "qMWQRlTqt6Yn"
      },
      "source": [
        "**Change Hardware Accelerator to GPU to train faster (Runtime -> Change Runtime Type -> Hardware Accelerator -> GPU)**"
      ]
    },
    {
      "cell_type": "markdown",
      "metadata": {
        "id": "1QxGsnvhnn8R"
      },
      "source": [
        "#Loading in Data"
      ]
    },
    {
      "cell_type": "markdown",
      "metadata": {
        "id": "btr24O6Hqgo6"
      },
      "source": [
        "Once again, let's load in our dog/road dataset and create our training and test set. **What's the shape of each dataset? Why?**"
      ]
    },
    {
      "cell_type": "code",
      "metadata": {
        "id": "MmZbrZoKnthN",
        "colab": {
          "base_uri": "https://localhost:8080/"
        },
        "outputId": "770be895-a422-4713-f4b9-db86517307fc"
      },
      "source": [
        "# load our data\n",
        "data_raw, labels_raw = load_data()\n",
        "data = data_raw.astype(float)\n",
        "labels = categorical_to_numpy(labels_raw)\n",
        "inputs_train, inputs_test, labels_train, labels_test = model_selection.train_test_split(data, labels, test_size=0.2, random_state=1)\n",
        "\n",
        "#Find the shape of our dataset!\n",
        "### YOUR CODE HERE\n",
        "np.shape(data)\n",
        "### END CODE"
      ],
      "execution_count": null,
      "outputs": [
        {
          "output_type": "stream",
          "name": "stdout",
          "text": [
            "--2021-12-23 21:48:56--  https://storage.googleapis.com/inspirit-ai-data-bucket-1/Data/AI%20Scholars/Sessions%201%20-%205/Session%204%20_%205%20-%20Neural%20Networks%20_%20CNN/dogs_v_roads\n",
            "Resolving storage.googleapis.com (storage.googleapis.com)... 173.194.194.128, 173.194.196.128, 173.194.197.128, ...\n",
            "Connecting to storage.googleapis.com (storage.googleapis.com)|173.194.194.128|:443... connected.\n",
            "HTTP request sent, awaiting response... 200 OK\n",
            "Length: 3689015 (3.5M) [application/octet-stream]\n",
            "Saving to: ‘cifar_data’\n",
            "\n",
            "\rcifar_data            0%[                    ]       0  --.-KB/s               \rcifar_data          100%[===================>]   3.52M  --.-KB/s    in 0.03s   \n",
            "\n",
            "2021-12-23 21:48:56 (106 MB/s) - ‘cifar_data’ saved [3689015/3689015]\n",
            "\n"
          ]
        },
        {
          "output_type": "execute_result",
          "data": {
            "text/plain": [
              "(1200, 3072)"
            ]
          },
          "metadata": {},
          "execution_count": 3
        }
      ]
    },
    {
      "cell_type": "markdown",
      "metadata": {
        "id": "VcZra2S0NNSZ"
      },
      "source": [
        "Use the cell below as a reminder of what the data looks like."
      ]
    },
    {
      "cell_type": "code",
      "metadata": {
        "id": "B83F3CmPNSux",
        "colab": {
          "base_uri": "https://localhost:8080/",
          "height": 283
        },
        "outputId": "868f17d8-c94e-4633-d597-75144ba7d539"
      },
      "source": [
        "plot_one_image(data_raw, labels_raw, 300) # change this number"
      ],
      "execution_count": null,
      "outputs": [
        {
          "output_type": "stream",
          "name": "stdout",
          "text": [
            "label: dog\n"
          ]
        },
        {
          "output_type": "display_data",
          "data": {
            "image/png": "[encoded data removed]",
            "text/plain": [
              "<Figure size 432x288 with 1 Axes>"
            ]
          },
          "metadata": {
            "needs_background": "light"
          }
        }
      ]
    },
    {
      "cell_type": "markdown",
      "metadata": {
        "id": "37O_VE_D1Bdy"
      },
      "source": [
        "# Models for Vision: Convolutional Neural Networks"
      ]
    },
    {
      "cell_type": "markdown",
      "metadata": {
        "id": "GqrfI4JiVeFr"
      },
      "source": [
        "###Exercise: Exploring Hyperparameters ✍️\n",
        "\n",
        "As you know, there is a famous type of neural network known as convolutional neural networks (CNNs). These types of neural networks work particularly well on problems to do with computer vision. Let's try one out!\n",
        "\n",
        "To load up a simple CNN on scikit-learn, just run:\n",
        "\n",
        "`cnn = CNNClassifier(num_epochs, layers, dropout)`\n",
        "\n",
        "Work with your instructors to review what each parameter means and how it affects the model! The value for **dropout** is a float between 0 and 1 that represents the probability the weight for a neuron in the layer is set to 0 during training time. Each neuron in the layer is evaluated as such, which can help prevent overfitting.\n",
        "\n",
        "**Try different values of num_epochs, layers, and dropout so that you get the best possible accuracy on the test set using `model.score()`**!"
      ]
    },
    {
      "cell_type": "code",
      "metadata": {
        "id": "bmC3-T4KRJgW",
        "colab": {
          "base_uri": "https://localhost:8080/"
        },
        "outputId": "b6df047a-1400-4b48-cb3d-da966936d302"
      },
      "source": [
        "cnn = CNNClassifier(30, 4, .5)\n",
        "cnn.fit(inputs_train, labels_train)\n",
        "preds = cnn.predict(inputs_test)\n",
        "print (cnn.score(inputs_test, labels_test))"
      ],
      "execution_count": null,
      "outputs": [
        {
          "output_type": "stream",
          "name": "stderr",
          "text": [
            "/usr/local/lib/python3.7/dist-packages/ipykernel_launcher.py:92: DeprecationWarning: KerasClassifier is deprecated, use Sci-Keras (https://github.com/adriangb/scikeras) instead.\n"
          ]
        },
        {
          "output_type": "stream",
          "name": "stdout",
          "text": [
            "Epoch 1/30\n",
            "96/96 - 3s - loss: 2.5290 - accuracy: 0.6052 - 3s/epoch - 28ms/step\n",
            "Epoch 2/30\n",
            "96/96 - 1s - loss: 0.4387 - accuracy: 0.8240 - 1s/epoch - 12ms/step\n",
            "Epoch 3/30\n",
            "96/96 - 1s - loss: 0.2925 - accuracy: 0.8896 - 1s/epoch - 12ms/step\n",
            "Epoch 4/30\n",
            "96/96 - 1s - loss: 0.2498 - accuracy: 0.9010 - 1s/epoch - 12ms/step\n",
            "Epoch 5/30\n",
            "96/96 - 1s - loss: 0.2312 - accuracy: 0.9104 - 1s/epoch - 12ms/step\n",
            "Epoch 6/30\n",
            "96/96 - 1s - loss: 0.1948 - accuracy: 0.9156 - 1s/epoch - 12ms/step\n",
            "Epoch 7/30\n",
            "96/96 - 1s - loss: 0.1694 - accuracy: 0.9260 - 1s/epoch - 12ms/step\n",
            "Epoch 8/30\n",
            "96/96 - 1s - loss: 0.1830 - accuracy: 0.9344 - 1s/epoch - 12ms/step\n",
            "Epoch 9/30\n",
            "96/96 - 1s - loss: 0.1770 - accuracy: 0.9323 - 1s/epoch - 12ms/step\n",
            "Epoch 10/30\n",
            "96/96 - 1s - loss: 0.1690 - accuracy: 0.9375 - 1s/epoch - 12ms/step\n",
            "Epoch 11/30\n",
            "96/96 - 1s - loss: 0.1388 - accuracy: 0.9417 - 1s/epoch - 12ms/step\n",
            "Epoch 12/30\n",
            "96/96 - 1s - loss: 0.1432 - accuracy: 0.9406 - 1s/epoch - 12ms/step\n",
            "Epoch 13/30\n",
            "96/96 - 1s - loss: 0.1332 - accuracy: 0.9552 - 1s/epoch - 12ms/step\n",
            "Epoch 14/30\n",
            "96/96 - 1s - loss: 0.1461 - accuracy: 0.9552 - 1s/epoch - 12ms/step\n",
            "Epoch 15/30\n",
            "96/96 - 1s - loss: 0.1196 - accuracy: 0.9573 - 1s/epoch - 12ms/step\n",
            "Epoch 16/30\n",
            "96/96 - 1s - loss: 0.1347 - accuracy: 0.9521 - 1s/epoch - 12ms/step\n",
            "Epoch 17/30\n",
            "96/96 - 1s - loss: 0.1319 - accuracy: 0.9500 - 1s/epoch - 12ms/step\n",
            "Epoch 18/30\n",
            "96/96 - 1s - loss: 0.1170 - accuracy: 0.9490 - 1s/epoch - 12ms/step\n",
            "Epoch 19/30\n",
            "96/96 - 1s - loss: 0.1235 - accuracy: 0.9542 - 1s/epoch - 12ms/step\n",
            "Epoch 20/30\n",
            "96/96 - 1s - loss: 0.1169 - accuracy: 0.9615 - 1s/epoch - 12ms/step\n",
            "Epoch 21/30\n",
            "96/96 - 1s - loss: 0.0950 - accuracy: 0.9615 - 1s/epoch - 12ms/step\n",
            "Epoch 22/30\n",
            "96/96 - 1s - loss: 0.1045 - accuracy: 0.9646 - 1s/epoch - 12ms/step\n",
            "Epoch 23/30\n",
            "96/96 - 1s - loss: 0.0863 - accuracy: 0.9729 - 1s/epoch - 12ms/step\n",
            "Epoch 24/30\n",
            "96/96 - 1s - loss: 0.0955 - accuracy: 0.9594 - 1s/epoch - 12ms/step\n",
            "Epoch 25/30\n",
            "96/96 - 1s - loss: 0.0833 - accuracy: 0.9667 - 1s/epoch - 12ms/step\n",
            "Epoch 26/30\n",
            "96/96 - 1s - loss: 0.0972 - accuracy: 0.9677 - 1s/epoch - 12ms/step\n",
            "Epoch 27/30\n",
            "96/96 - 1s - loss: 0.0838 - accuracy: 0.9667 - 1s/epoch - 12ms/step\n",
            "Epoch 28/30\n",
            "96/96 - 1s - loss: 0.0830 - accuracy: 0.9760 - 1s/epoch - 12ms/step\n",
            "Epoch 29/30\n",
            "96/96 - 1s - loss: 0.0960 - accuracy: 0.9708 - 1s/epoch - 12ms/step\n",
            "Epoch 30/30\n",
            "96/96 - 1s - loss: 0.0529 - accuracy: 0.9812 - 1s/epoch - 12ms/step\n",
            "24/24 - 0s - loss: 0.2245 - accuracy: 0.9417 - 309ms/epoch - 13ms/step\n",
            "0.9416666626930237\n"
          ]
        }
      ]
    },
    {
      "cell_type": "code",
      "metadata": {
        "id": "dSwghlVU4WTy"
      },
      "source": [
        "### YOUR CODE HERE\n",
        "\n",
        "### END CODE"
      ],
      "execution_count": null,
      "outputs": []
    },
    {
      "cell_type": "markdown",
      "metadata": {
        "id": "KGWpgsVXP1ut"
      },
      "source": [
        "**How well did your neural network perform?** \n",
        "\n",
        "CNNs typically perform better than fully-connected neural networks on vision problems, but, as before, they aren't always consistent. They are also sensitive to a number of parameters. "
      ]
    },
    {
      "cell_type": "markdown",
      "metadata": {
        "id": "c-XRh5Y5P_CL"
      },
      "source": [
        "## Training and Validation Curves\n",
        "\n",
        "An important aspect of training neural networks is to prevent overfitting. **How would we recognize overfitting?**\n",
        "\n",
        "In the first line of code below, we first **fit** the model on the training data and pass in some validation (or test) data to evaluate it. We call it the **history** because we want to retain information about the accuracy at each epoch.\n",
        "\n",
        "In the second line we plot the history so that we can compare the training and validation accuracies.  \n",
        "\n",
        "```\n",
        "history = model.fit(inputs_train, labels_train, validation_data=(inputs_test, labels_test))\n",
        "plot_acc(history)\n",
        "```\n",
        "\n"
      ]
    },
    {
      "cell_type": "markdown",
      "metadata": {
        "id": "8eaFvE2PQEFe"
      },
      "source": [
        "###Exercise: Plotting a training vs. validation curve for our CNN ✍️\n",
        "\n",
        "**After how many epochs does the model begin to overfit? How does this vary as you vary the number of hidden layers and dropout?** Overfitting occurs when the validation accuracy starts to drop below the training accuracy."
      ]
    },
    {
      "cell_type": "code",
      "metadata": {
        "id": "OsVAasDbjARJ",
        "colab": {
          "base_uri": "https://localhost:8080/",
          "height": 1000
        },
        "outputId": "b95653eb-b6f2-4867-930b-0ce016e386b0"
      },
      "source": [
        "### YOUR CODE HERE\n",
        "history = cnn.fit(inputs_train, labels_train, validation_data=(inputs_test, labels_test))\n",
        "plot_acc(history)\n",
        "### END CODE"
      ],
      "execution_count": null,
      "outputs": [
        {
          "output_type": "stream",
          "name": "stdout",
          "text": [
            "Epoch 1/30\n",
            "96/96 - 6s - loss: 1.0718 - accuracy: 0.6333 - val_loss: 0.3022 - val_accuracy: 0.8958 - 6s/epoch - 58ms/step\n",
            "Epoch 2/30\n",
            "96/96 - 1s - loss: 0.3485 - accuracy: 0.8490 - val_loss: 0.1847 - val_accuracy: 0.9375 - 1s/epoch - 13ms/step\n",
            "Epoch 3/30\n",
            "96/96 - 1s - loss: 0.2471 - accuracy: 0.9000 - val_loss: 0.1900 - val_accuracy: 0.9417 - 1s/epoch - 13ms/step\n",
            "Epoch 4/30\n",
            "96/96 - 1s - loss: 0.2268 - accuracy: 0.9156 - val_loss: 0.2487 - val_accuracy: 0.9292 - 1s/epoch - 13ms/step\n",
            "Epoch 5/30\n",
            "96/96 - 1s - loss: 0.1897 - accuracy: 0.9302 - val_loss: 0.1454 - val_accuracy: 0.9542 - 1s/epoch - 14ms/step\n",
            "Epoch 6/30\n",
            "96/96 - 1s - loss: 0.1820 - accuracy: 0.9281 - val_loss: 0.1958 - val_accuracy: 0.9250 - 1s/epoch - 14ms/step\n",
            "Epoch 7/30\n",
            "96/96 - 1s - loss: 0.1526 - accuracy: 0.9469 - val_loss: 0.1246 - val_accuracy: 0.9542 - 1s/epoch - 14ms/step\n",
            "Epoch 8/30\n",
            "96/96 - 1s - loss: 0.1411 - accuracy: 0.9448 - val_loss: 0.1369 - val_accuracy: 0.9500 - 1s/epoch - 13ms/step\n",
            "Epoch 9/30\n",
            "96/96 - 1s - loss: 0.1446 - accuracy: 0.9510 - val_loss: 0.1423 - val_accuracy: 0.9542 - 1s/epoch - 14ms/step\n",
            "Epoch 10/30\n",
            "96/96 - 1s - loss: 0.1314 - accuracy: 0.9521 - val_loss: 0.1267 - val_accuracy: 0.9667 - 1s/epoch - 13ms/step\n",
            "Epoch 11/30\n",
            "96/96 - 1s - loss: 0.1253 - accuracy: 0.9469 - val_loss: 0.1597 - val_accuracy: 0.9417 - 1s/epoch - 14ms/step\n",
            "Epoch 12/30\n",
            "96/96 - 1s - loss: 0.1256 - accuracy: 0.9552 - val_loss: 0.1299 - val_accuracy: 0.9542 - 1s/epoch - 13ms/step\n",
            "Epoch 13/30\n",
            "96/96 - 1s - loss: 0.1150 - accuracy: 0.9615 - val_loss: 0.1282 - val_accuracy: 0.9500 - 1s/epoch - 14ms/step\n",
            "Epoch 14/30\n",
            "96/96 - 1s - loss: 0.0975 - accuracy: 0.9656 - val_loss: 0.1106 - val_accuracy: 0.9708 - 1s/epoch - 14ms/step\n",
            "Epoch 15/30\n",
            "96/96 - 1s - loss: 0.1145 - accuracy: 0.9615 - val_loss: 0.1252 - val_accuracy: 0.9625 - 1s/epoch - 14ms/step\n",
            "Epoch 16/30\n",
            "96/96 - 1s - loss: 0.0917 - accuracy: 0.9646 - val_loss: 0.1409 - val_accuracy: 0.9458 - 1s/epoch - 14ms/step\n",
            "Epoch 17/30\n",
            "96/96 - 1s - loss: 0.1026 - accuracy: 0.9656 - val_loss: 0.1262 - val_accuracy: 0.9667 - 1s/epoch - 13ms/step\n",
            "Epoch 18/30\n",
            "96/96 - 1s - loss: 0.0762 - accuracy: 0.9750 - val_loss: 0.1265 - val_accuracy: 0.9583 - 1s/epoch - 14ms/step\n",
            "Epoch 19/30\n",
            "96/96 - 1s - loss: 0.0722 - accuracy: 0.9708 - val_loss: 0.1373 - val_accuracy: 0.9583 - 1s/epoch - 13ms/step\n",
            "Epoch 20/30\n",
            "96/96 - 1s - loss: 0.0727 - accuracy: 0.9760 - val_loss: 0.1456 - val_accuracy: 0.9542 - 1s/epoch - 13ms/step\n",
            "Epoch 21/30\n",
            "96/96 - 1s - loss: 0.0673 - accuracy: 0.9698 - val_loss: 0.1873 - val_accuracy: 0.9583 - 1s/epoch - 13ms/step\n",
            "Epoch 22/30\n",
            "96/96 - 1s - loss: 0.0777 - accuracy: 0.9688 - val_loss: 0.1822 - val_accuracy: 0.9583 - 1s/epoch - 14ms/step\n",
            "Epoch 23/30\n",
            "96/96 - 1s - loss: 0.0727 - accuracy: 0.9750 - val_loss: 0.1449 - val_accuracy: 0.9750 - 1s/epoch - 13ms/step\n",
            "Epoch 24/30\n",
            "96/96 - 1s - loss: 0.0608 - accuracy: 0.9854 - val_loss: 0.2002 - val_accuracy: 0.9583 - 1s/epoch - 13ms/step\n",
            "Epoch 25/30\n",
            "96/96 - 1s - loss: 0.0704 - accuracy: 0.9771 - val_loss: 0.1653 - val_accuracy: 0.9542 - 1s/epoch - 14ms/step\n",
            "Epoch 26/30\n",
            "96/96 - 1s - loss: 0.0626 - accuracy: 0.9750 - val_loss: 0.1604 - val_accuracy: 0.9583 - 1s/epoch - 14ms/step\n",
            "Epoch 27/30\n",
            "96/96 - 1s - loss: 0.0669 - accuracy: 0.9792 - val_loss: 0.1544 - val_accuracy: 0.9667 - 1s/epoch - 14ms/step\n",
            "Epoch 28/30\n",
            "96/96 - 1s - loss: 0.0476 - accuracy: 0.9854 - val_loss: 0.1700 - val_accuracy: 0.9583 - 1s/epoch - 13ms/step\n",
            "Epoch 29/30\n",
            "96/96 - 1s - loss: 0.0495 - accuracy: 0.9844 - val_loss: 0.1810 - val_accuracy: 0.9500 - 1s/epoch - 13ms/step\n",
            "Epoch 30/30\n",
            "96/96 - 1s - loss: 0.0416 - accuracy: 0.9833 - val_loss: 0.1825 - val_accuracy: 0.9625 - 1s/epoch - 13ms/step\n"
          ]
        },
        {
          "output_type": "display_data",
          "data": {
            "image/png": "[encoded data removed]",
            "text/plain": [
              "<Figure size 432x288 with 1 Axes>"
            ]
          },
          "metadata": {
            "needs_background": "light"
          }
        }
      ]
    },
    {
      "cell_type": "markdown",
      "metadata": {
        "id": "76z4NAY6afd7"
      },
      "source": [
        "# Building Neural Networks from Scratch in Keras \n",
        "\n",
        "So far, we've used helper functions which pre-build Keras neural network models. Now, we will build them on our own!\n",
        "\n",
        "Let's start with a \"toy example\": a tiny neural network with just three numerical inputs.\n"
      ]
    },
    {
      "cell_type": "markdown",
      "metadata": {
        "id": "jdngkAX_aCVu"
      },
      "source": [
        "###Exercise: Building a Simple Neural Network using Keras! ✍️\n",
        "\n"
      ]
    },
    {
      "cell_type": "markdown",
      "metadata": {
        "id": "Bj-Pt3wGCXRu"
      },
      "source": [
        "\n",
        "We're going to build this model: \n",
        "\n",
        "![](http://cs231n.github.io/assets/nn1/neural_net.jpeg)"
      ]
    },
    {
      "cell_type": "markdown",
      "metadata": {
        "id": "H-6WGeedvTCS"
      },
      "source": [
        "This network can be described as: \n",
        "* Input Layer: 3 neurons\n",
        "* Layer 1 (Hidden): 4 neurons that are activated by `'relu'`\n",
        "* Layer 2 (Output): 2 neurons that are activated by `'softmax'`\n",
        "\n",
        "\n",
        "We also want to compile the model with\n",
        "`loss = 'categorical_crossentropy'`\n",
        "\n",
        "What does this represent? Here's one way to interpret it:\n",
        "* This model classifies animals as \"cat\" or \"dog\"\n",
        "* Our three inputs are height, weight, and age\n",
        "* Our ouputs represent \"probability of cat\" and \"probability of dog\"\n",
        "* Because this is a toy example, we aren't actually training the model here - just using randomly initialized weights! We will train later models in this notebook.\n",
        "\n",
        "Try filling in the blanks below and walking through each line! **If you want a hint or more details, check out the optional reference below.**"
      ]
    },
    {
      "cell_type": "code",
      "metadata": {
        "id": "dp-g9qotbRPU",
        "colab": {
          "base_uri": "https://localhost:8080/"
        },
        "outputId": "c12ac233-956a-4baa-fe41-e3c24207fc2c"
      },
      "source": [
        "# Fill in the blanks with your group!\n",
        "### YOUR CODE HERE:\n",
        "model_1 = Sequential()\n",
        "model_1.add(InputLayer(input_shape=(3,)))\n",
        "model_1.add(Dense(4, activation = 'relu'))\n",
        "model_1.add(Dense(4, activation = 'relu'))\n",
        "model_1.add(Dense(2, activation = 'softmax'))\n",
        "model_1.compile(loss='categorical_crossentropy',\n",
        "                optimizer = 'adam', \n",
        "                metrics = ['accuracy'])\n",
        "model_1.predict([[14,18,5]]) #Try any input! This represents an animal of height 14, weight 18, and age 5.\n",
        "### END CODE"
      ],
      "execution_count": null,
      "outputs": [
        {
          "output_type": "execute_result",
          "data": {
            "text/plain": [
              "array([[0.05487215, 0.94512784]], dtype=float32)"
            ]
          },
          "metadata": {},
          "execution_count": 29
        }
      ]
    },
    {
      "cell_type": "markdown",
      "metadata": {
        "id": "baWZ9zXtF2Cz"
      },
      "source": [
        "**Discuss:** How would you interpret this output? Does our (untrained) network classify this as a cat or a dog?"
      ]
    },
    {
      "cell_type": "markdown",
      "metadata": {
        "id": "781M4IyhssuA"
      },
      "source": [
        "####**Optional Reference**\n",
        "\n",
        "Here's some information about each step of the process. **You don't need to read through all this - check it as a reference if needed!**\n",
        "\n",
        "**1. Specify model**\n",
        "\n",
        "```\n",
        "model = Sequential()\n",
        "```\n",
        "In this line of code, we build our network where the information flows from LEFT to RIGHT through the network in ONE DIRECTION as opposed to multiple directions. Neurons on the right never pass informations to neurons on the left of it. \n",
        "\n",
        "\n",
        "**2. Add layers to the network**\n",
        "```\n",
        "model.add(Dense(4, activation = 'sigmoid'))\n",
        "```\n",
        "In this code, we add a layer of neurons to our network. \n",
        "\n",
        "This layers consists of 4 neurons. Each neuron is DENSE and connects to all of the previous layer's inputs and all of the subsequent layers outputs. We specify that there are 3 inputs here.\n",
        "\n",
        "We also specify what kind of output the neuron will give. If you want the neuron to output a number between 0 and 1 (like a probability!) you would use 'softmax' or 'sigmoid'. If you want the neuron to output any number, you can use 'linear'! You'll also often see 'relu', which is when a neuron will only output positive numbers. \n",
        "\n",
        "```\n",
        "model.add(Dense(1, activation = 'linear'))\n",
        "```\n",
        "This code adds ANOTHER layer to the network that has 1 neuron. This one neuron is used to predict a continuous value!\n",
        "\n",
        "**3. Turn the model on by compiling it** \n",
        "\n",
        "After having built the network, we want to train and use it, so we have to 'compile' it to prepare. We have to specify at the very least: a loss (how the model measures the quality of its weights), an optimizer (which adjusts the weights), and a metric (how to evaluate our results). Here are some common choices:\n",
        "```\n",
        "model.compile(loss='mean_squared_error',\n",
        "optimizer = 'adam',\n",
        "metrics = ['mean_squared_error'])\n",
        "  ```\n",
        "\n",
        "Once we've created our network, we can use it very simply! Just like we did with sklearn, we define our input data (x), the true predictions from that data (y), and then train our model with `fit`. \n",
        "\n",
        "```\n",
        "model.fit(x, y)\n",
        "```\n",
        "\n",
        "To use the model, you can use it to predict something with:\n",
        "```\n",
        "y = model.predict(x)\n",
        "```\n",
        "\n",
        "You can actually use the model before you even train it! It just won't perform very well. "
      ]
    },
    {
      "cell_type": "markdown",
      "metadata": {
        "id": "YovNRgfuy0Oq"
      },
      "source": [
        "###(Optional) Exercise: Building a Multi-layer Neural Net using Keras ✍️\n",
        "\n",
        "![](http://cs231n.github.io/assets/nn1/neural_net2.jpeg)\n",
        "\n",
        "Let's try another, bigger example!\n",
        "\n",
        "Here, we are predicting a house price: regression! Our inputs could be \"year the house was built\", \"home square footage\", and \"lot square footage\", while our output is price (in thousands of dollars).\n",
        "\n",
        "* Input Layer: 3 neurons\n",
        "\n",
        "* Layer 1: 4 neurons that are activated by `'relu' `and take in 3 inputs.\n",
        "\n",
        "* Layer 2: 4 neurons that are activated by `'relu'`\n",
        "\n",
        "* Layer 3 (out): 1 neuron that is activated by `'relu'`\n",
        "\n",
        "Compile the model with\n",
        "`'mean_squared_error'` as both loss and metric, and try making a prediction for some made-up data.\n"
      ]
    },
    {
      "cell_type": "code",
      "metadata": {
        "id": "pm-ylEWqbXrQ",
        "colab": {
          "base_uri": "https://localhost:8080/"
        },
        "outputId": "5e95a475-f797-4368-e854-03ad96aa7d64"
      },
      "source": [
        "### YOUR CODE HERE\n",
        "model_1 = Sequential()\n",
        "model_1.add(InputLayer(input_shape=(3,)))\n",
        "model_1.add(Dense(4, activation = 'relu'))\n",
        "model_1.add(Dense(4, activation = 'relu'))\n",
        "model_1.add(Dense(1, activation = 'relu'))\n",
        "model_1.compile(loss='mean_squared_error',\n",
        "                optimizer = 'adam', \n",
        "                metrics = ['accuracy'])\n",
        "model_1.predict([[14,58,5]])\n",
        "### END CODE"
      ],
      "execution_count": null,
      "outputs": [
        {
          "output_type": "execute_result",
          "data": {
            "text/plain": [
              "array([[17.609257]], dtype=float32)"
            ]
          },
          "metadata": {},
          "execution_count": 51
        }
      ]
    },
    {
      "cell_type": "markdown",
      "metadata": {
        "id": "YVCmntRHRjPQ"
      },
      "source": [
        "###(Optional) Exercise: Dogs vs. Roads using Keras\n",
        "\n",
        "Let's try an even bigger example! Here, we are going to distinguish between images of dogs and roads once again. \n",
        "\n",
        "* Input Layer: 3072 dimensions (32 pixels x 32 pixels x 3 color channels)\n",
        "\n",
        "* Layer 1: 32 neurons that are activated by `'relu' `and take in 3 inputs.\n",
        "\n",
        "* Layer 2: 16 neurons that are activated by `'relu'`\n",
        "\n",
        "* Layer 3 (out): 2 neurons that is activated by `'sigmoid'`\n",
        "\n",
        "Compile the model with\n",
        "`loss = 'binary_crossentropy'`, and try making predictions on `inputs_train`!\n",
        "\n",
        "Once again, we are not actually training this model - so the preditions won't be any good. Soon we will create a CNN, which we will train!"
      ]
    },
    {
      "cell_type": "code",
      "metadata": {
        "id": "DD2Dc4AYR31r"
      },
      "source": [
        "### YOUR CODE HERE\n",
        "model_1 = Sequential()\n",
        "model_1.add(InputLayer(input_shape=(3,)))\n",
        "model_1.add(Dense(4, activation = 'relu'))\n",
        "model_1.add(Dense(4, activation = 'relu'))\n",
        "model_1.add(Dense(1, activation = 'relu'))\n",
        "model_1.compile(loss='mean_squared_error',\n",
        "                optimizer = 'adam', \n",
        "                metrics = ['accuracy'])\n",
        "model_1.predict([[14,58,5]])\n",
        "### END CODE"
      ],
      "execution_count": null,
      "outputs": []
    },
    {
      "cell_type": "markdown",
      "metadata": {
        "id": "QCbD6siv-Ip-"
      },
      "source": [
        "##Exercise: Building a CNN using Keras! ✍️\n",
        "\n",
        "Now that we know how to build simple neural networks in Keras, let's build a CNN! The CNN will perform well on our data set of car and road images. \n",
        "\n",
        "Below is Keras code for a CNN. It will run as-is on the conscientious cars dataset. Add more layers and change the neural network hyperparameters so that the performance will be better. **Can you get the train and validation accuracy to both be higher than 95%?**\n",
        "\n",
        "The Keras core layer API may be a useful reference: https://keras.io/layers/core/ \n",
        "\n",
        "In particular and in addition to adding more of the existing convolutional layers and activations, consider using the following layers after a convolution + activation:\n",
        "\n",
        "`Dropout(N)`\n",
        "\n",
        "`MaxPooling2D(pool_size=(N, N))`\n"
      ]
    },
    {
      "cell_type": "code",
      "metadata": {
        "id": "LFVHyPKn-V4N",
        "colab": {
          "base_uri": "https://localhost:8080/",
          "height": 1000
        },
        "outputId": "72cd9fae-dc7f-4ba3-d1bd-d6a230874f9b"
      },
      "source": [
        "model = Sequential()\n",
        "model.add(Reshape((32, 32, 3)))\n",
        "\n",
        "model.add(Conv2D(32, (3, 3), padding='same'))\n",
        "model.add(Activation('relu'))\n",
        "model.add(MaxPooling2D(pool_size=(2, 2)))\n",
        "\n",
        "\n",
        "### TODO: ADD MORE LAYERS HERE!!!!!\n",
        "model.add(Dense(100,activation='relu'))\n",
        "model.add(MaxPooling2D(pool_size=(2, 2)))\n",
        "model.add(Dense(100,activation='relu'))\n",
        "model.add(Conv2D(32, (3, 3), padding='same'))\n",
        "model.add(Dropout(0.5))\n",
        "model.add(Dense(100,activation='relu'))\n",
        "model.add(Conv2D(32, (3, 3), padding='same'))\n",
        "model.add(Dropout(0.5))\n",
        "model.add(Dense(100,activation='relu'))\n",
        "\n",
        "\n",
        "model.add(Flatten())\n",
        "model.add(Dense(512))\n",
        "model.add(Activation('relu'))\n",
        "model.add(Dense(2))\n",
        "model.add(Activation('softmax'))\n",
        "\n",
        "# initiate RMSprop optimizer\n",
        "opt = keras.optimizers.RMSprop(learning_rate=0.0001, decay=1e-6)\n",
        "\n",
        "# Let's train the model using RMSprop\n",
        "model.compile(loss='categorical_crossentropy',\n",
        "              optimizer=opt,\n",
        "              metrics=['accuracy'])\n",
        "\n",
        "# Train the CNN and plot accuracy.\n",
        "history = model.fit(inputs_train, labels_train, \\\n",
        "                    validation_data=(inputs_test, labels_test), \\\n",
        "                    epochs=70)\n",
        "plot_acc(history)\n"
      ],
      "execution_count": null,
      "outputs": [
        {
          "output_type": "stream",
          "name": "stdout",
          "text": [
            "Epoch 1/70\n",
            "30/30 [==============================] - 2s 35ms/step - loss: 8.7149 - accuracy: 0.5948 - val_loss: 0.3921 - val_accuracy: 0.8500\n",
            "Epoch 2/70\n",
            "30/30 [==============================] - 1s 18ms/step - loss: 1.3892 - accuracy: 0.7375 - val_loss: 2.6219 - val_accuracy: 0.4708\n",
            "Epoch 3/70\n",
            "30/30 [==============================] - 1s 18ms/step - loss: 0.9732 - accuracy: 0.7510 - val_loss: 0.5058 - val_accuracy: 0.7958\n",
            "Epoch 4/70\n",
            "30/30 [==============================] - 1s 18ms/step - loss: 0.6360 - accuracy: 0.7781 - val_loss: 0.4184 - val_accuracy: 0.8000\n",
            "Epoch 5/70\n",
            "30/30 [==============================] - 1s 18ms/step - loss: 0.4934 - accuracy: 0.8177 - val_loss: 0.3276 - val_accuracy: 0.8458\n",
            "Epoch 6/70\n",
            "30/30 [==============================] - 1s 18ms/step - loss: 0.3744 - accuracy: 0.8583 - val_loss: 0.2056 - val_accuracy: 0.9083\n",
            "Epoch 7/70\n",
            "30/30 [==============================] - 1s 19ms/step - loss: 0.3989 - accuracy: 0.8396 - val_loss: 0.2780 - val_accuracy: 0.8833\n",
            "Epoch 8/70\n",
            "30/30 [==============================] - 1s 18ms/step - loss: 0.3471 - accuracy: 0.8656 - val_loss: 0.2014 - val_accuracy: 0.9292\n",
            "Epoch 9/70\n",
            "30/30 [==============================] - 1s 18ms/step - loss: 0.3165 - accuracy: 0.8719 - val_loss: 0.1845 - val_accuracy: 0.9292\n",
            "Epoch 10/70\n",
            "30/30 [==============================] - 1s 18ms/step - loss: 0.2946 - accuracy: 0.8813 - val_loss: 0.4580 - val_accuracy: 0.7542\n",
            "Epoch 11/70\n",
            "30/30 [==============================] - 1s 18ms/step - loss: 0.2827 - accuracy: 0.8813 - val_loss: 0.3442 - val_accuracy: 0.8250\n",
            "Epoch 12/70\n",
            "30/30 [==============================] - 1s 18ms/step - loss: 0.2465 - accuracy: 0.9000 - val_loss: 0.1263 - val_accuracy: 0.9625\n",
            "Epoch 13/70\n",
            "30/30 [==============================] - 1s 18ms/step - loss: 0.2857 - accuracy: 0.8906 - val_loss: 0.1489 - val_accuracy: 0.9458\n",
            "Epoch 14/70\n",
            "30/30 [==============================] - 1s 18ms/step - loss: 0.2315 - accuracy: 0.9073 - val_loss: 0.1177 - val_accuracy: 0.9667\n",
            "Epoch 15/70\n",
            "30/30 [==============================] - 1s 18ms/step - loss: 0.2427 - accuracy: 0.9083 - val_loss: 0.1357 - val_accuracy: 0.9583\n",
            "Epoch 16/70\n",
            "30/30 [==============================] - 1s 18ms/step - loss: 0.1869 - accuracy: 0.9312 - val_loss: 0.1180 - val_accuracy: 0.9625\n",
            "Epoch 17/70\n",
            "30/30 [==============================] - 1s 18ms/step - loss: 0.2285 - accuracy: 0.9146 - val_loss: 0.1046 - val_accuracy: 0.9667\n",
            "Epoch 18/70\n",
            "30/30 [==============================] - 1s 18ms/step - loss: 0.2250 - accuracy: 0.9125 - val_loss: 0.1128 - val_accuracy: 0.9667\n",
            "Epoch 19/70\n",
            "30/30 [==============================] - 1s 18ms/step - loss: 0.1925 - accuracy: 0.9240 - val_loss: 0.1349 - val_accuracy: 0.9500\n",
            "Epoch 20/70\n",
            "30/30 [==============================] - 1s 18ms/step - loss: 0.1722 - accuracy: 0.9417 - val_loss: 0.1027 - val_accuracy: 0.9708\n",
            "Epoch 21/70\n",
            "30/30 [==============================] - 1s 18ms/step - loss: 0.1842 - accuracy: 0.9406 - val_loss: 0.0926 - val_accuracy: 0.9708\n",
            "Epoch 22/70\n",
            "30/30 [==============================] - 1s 18ms/step - loss: 0.1835 - accuracy: 0.9354 - val_loss: 0.1010 - val_accuracy: 0.9667\n",
            "Epoch 23/70\n",
            "30/30 [==============================] - 1s 18ms/step - loss: 0.1651 - accuracy: 0.9333 - val_loss: 0.0872 - val_accuracy: 0.9708\n",
            "Epoch 24/70\n",
            "30/30 [==============================] - 1s 18ms/step - loss: 0.1560 - accuracy: 0.9490 - val_loss: 0.1373 - val_accuracy: 0.9458\n",
            "Epoch 25/70\n",
            "30/30 [==============================] - 1s 18ms/step - loss: 0.1724 - accuracy: 0.9406 - val_loss: 0.1036 - val_accuracy: 0.9667\n",
            "Epoch 26/70\n",
            "30/30 [==============================] - 1s 19ms/step - loss: 0.1445 - accuracy: 0.9448 - val_loss: 0.0994 - val_accuracy: 0.9625\n",
            "Epoch 27/70\n",
            "30/30 [==============================] - 1s 19ms/step - loss: 0.1461 - accuracy: 0.9406 - val_loss: 0.3029 - val_accuracy: 0.8625\n",
            "Epoch 28/70\n",
            "30/30 [==============================] - 1s 19ms/step - loss: 0.1501 - accuracy: 0.9521 - val_loss: 0.0998 - val_accuracy: 0.9625\n",
            "Epoch 29/70\n",
            "30/30 [==============================] - 1s 19ms/step - loss: 0.1455 - accuracy: 0.9385 - val_loss: 0.0846 - val_accuracy: 0.9750\n",
            "Epoch 30/70\n",
            "30/30 [==============================] - 1s 18ms/step - loss: 0.1351 - accuracy: 0.9552 - val_loss: 0.1285 - val_accuracy: 0.9500\n",
            "Epoch 31/70\n",
            "30/30 [==============================] - 1s 18ms/step - loss: 0.1260 - accuracy: 0.9563 - val_loss: 0.0836 - val_accuracy: 0.9708\n",
            "Epoch 32/70\n",
            "30/30 [==============================] - 1s 18ms/step - loss: 0.0966 - accuracy: 0.9625 - val_loss: 0.1806 - val_accuracy: 0.9167\n",
            "Epoch 33/70\n",
            "30/30 [==============================] - 1s 19ms/step - loss: 0.1190 - accuracy: 0.9615 - val_loss: 0.1054 - val_accuracy: 0.9667\n",
            "Epoch 34/70\n",
            "30/30 [==============================] - 1s 18ms/step - loss: 0.0968 - accuracy: 0.9604 - val_loss: 0.0939 - val_accuracy: 0.9708\n",
            "Epoch 35/70\n",
            "30/30 [==============================] - 1s 18ms/step - loss: 0.1370 - accuracy: 0.9500 - val_loss: 0.1214 - val_accuracy: 0.9542\n",
            "Epoch 36/70\n",
            "30/30 [==============================] - 1s 18ms/step - loss: 0.1196 - accuracy: 0.9583 - val_loss: 0.1416 - val_accuracy: 0.9458\n",
            "Epoch 37/70\n",
            "30/30 [==============================] - 1s 21ms/step - loss: 0.1029 - accuracy: 0.9677 - val_loss: 0.1995 - val_accuracy: 0.9375\n",
            "Epoch 38/70\n",
            "30/30 [==============================] - 1s 18ms/step - loss: 0.1084 - accuracy: 0.9521 - val_loss: 0.1022 - val_accuracy: 0.9750\n",
            "Epoch 39/70\n",
            "30/30 [==============================] - 1s 18ms/step - loss: 0.0959 - accuracy: 0.9698 - val_loss: 0.0929 - val_accuracy: 0.9708\n",
            "Epoch 40/70\n",
            "30/30 [==============================] - 1s 18ms/step - loss: 0.0925 - accuracy: 0.9667 - val_loss: 0.0990 - val_accuracy: 0.9708\n",
            "Epoch 41/70\n",
            "30/30 [==============================] - 1s 18ms/step - loss: 0.1039 - accuracy: 0.9604 - val_loss: 0.0913 - val_accuracy: 0.9708\n",
            "Epoch 42/70\n",
            "30/30 [==============================] - 1s 19ms/step - loss: 0.0827 - accuracy: 0.9719 - val_loss: 0.0813 - val_accuracy: 0.9833\n",
            "Epoch 43/70\n",
            "30/30 [==============================] - 1s 18ms/step - loss: 0.1327 - accuracy: 0.9583 - val_loss: 0.0878 - val_accuracy: 0.9708\n",
            "Epoch 44/70\n",
            "30/30 [==============================] - 1s 19ms/step - loss: 0.0718 - accuracy: 0.9719 - val_loss: 0.1548 - val_accuracy: 0.9458\n",
            "Epoch 45/70\n",
            "30/30 [==============================] - 1s 18ms/step - loss: 0.0964 - accuracy: 0.9625 - val_loss: 0.1153 - val_accuracy: 0.9667\n",
            "Epoch 46/70\n",
            "30/30 [==============================] - 1s 19ms/step - loss: 0.0782 - accuracy: 0.9771 - val_loss: 0.1949 - val_accuracy: 0.9375\n",
            "Epoch 47/70\n",
            "30/30 [==============================] - 1s 19ms/step - loss: 0.0874 - accuracy: 0.9656 - val_loss: 0.3265 - val_accuracy: 0.8750\n",
            "Epoch 48/70\n",
            "30/30 [==============================] - 1s 18ms/step - loss: 0.0655 - accuracy: 0.9729 - val_loss: 0.1123 - val_accuracy: 0.9708\n",
            "Epoch 49/70\n",
            "30/30 [==============================] - 1s 18ms/step - loss: 0.0566 - accuracy: 0.9823 - val_loss: 0.1143 - val_accuracy: 0.9667\n",
            "Epoch 50/70\n",
            "30/30 [==============================] - 1s 18ms/step - loss: 0.0642 - accuracy: 0.9760 - val_loss: 0.1456 - val_accuracy: 0.9667\n",
            "Epoch 51/70\n",
            "30/30 [==============================] - 1s 19ms/step - loss: 0.0905 - accuracy: 0.9667 - val_loss: 0.1681 - val_accuracy: 0.9417\n",
            "Epoch 52/70\n",
            "30/30 [==============================] - 1s 18ms/step - loss: 0.0803 - accuracy: 0.9688 - val_loss: 0.0998 - val_accuracy: 0.9667\n",
            "Epoch 53/70\n",
            "30/30 [==============================] - 1s 19ms/step - loss: 0.0500 - accuracy: 0.9812 - val_loss: 0.0923 - val_accuracy: 0.9750\n",
            "Epoch 54/70\n",
            "30/30 [==============================] - 1s 18ms/step - loss: 0.0377 - accuracy: 0.9875 - val_loss: 0.1620 - val_accuracy: 0.9542\n",
            "Epoch 55/70\n",
            "30/30 [==============================] - 1s 19ms/step - loss: 0.0847 - accuracy: 0.9708 - val_loss: 0.2525 - val_accuracy: 0.9333\n",
            "Epoch 56/70\n",
            "30/30 [==============================] - 1s 18ms/step - loss: 0.0799 - accuracy: 0.9729 - val_loss: 0.1368 - val_accuracy: 0.9625\n",
            "Epoch 57/70\n",
            "30/30 [==============================] - 1s 19ms/step - loss: 0.0539 - accuracy: 0.9792 - val_loss: 0.1650 - val_accuracy: 0.9500\n",
            "Epoch 58/70\n",
            "30/30 [==============================] - 1s 18ms/step - loss: 0.0675 - accuracy: 0.9729 - val_loss: 0.1286 - val_accuracy: 0.9625\n",
            "Epoch 59/70\n",
            "30/30 [==============================] - 1s 18ms/step - loss: 0.0518 - accuracy: 0.9823 - val_loss: 0.1117 - val_accuracy: 0.9792\n",
            "Epoch 60/70\n",
            "30/30 [==============================] - 1s 18ms/step - loss: 0.0756 - accuracy: 0.9802 - val_loss: 0.1218 - val_accuracy: 0.9708\n",
            "Epoch 61/70\n",
            "30/30 [==============================] - 1s 18ms/step - loss: 0.0547 - accuracy: 0.9823 - val_loss: 0.1297 - val_accuracy: 0.9750\n",
            "Epoch 62/70\n",
            "30/30 [==============================] - 1s 21ms/step - loss: 0.0704 - accuracy: 0.9729 - val_loss: 0.1597 - val_accuracy: 0.9417\n",
            "Epoch 63/70\n",
            "30/30 [==============================] - 1s 18ms/step - loss: 0.0554 - accuracy: 0.9802 - val_loss: 0.1335 - val_accuracy: 0.9708\n",
            "Epoch 64/70\n",
            "30/30 [==============================] - 1s 18ms/step - loss: 0.0423 - accuracy: 0.9854 - val_loss: 0.1445 - val_accuracy: 0.9708\n",
            "Epoch 65/70\n",
            "30/30 [==============================] - 1s 18ms/step - loss: 0.0535 - accuracy: 0.9823 - val_loss: 0.1232 - val_accuracy: 0.9667\n",
            "Epoch 66/70\n",
            "30/30 [==============================] - 1s 18ms/step - loss: 0.0410 - accuracy: 0.9865 - val_loss: 0.1216 - val_accuracy: 0.9708\n",
            "Epoch 67/70\n",
            "30/30 [==============================] - 1s 18ms/step - loss: 0.0427 - accuracy: 0.9844 - val_loss: 0.2019 - val_accuracy: 0.9583\n",
            "Epoch 68/70\n",
            "30/30 [==============================] - 1s 18ms/step - loss: 0.0481 - accuracy: 0.9844 - val_loss: 0.1493 - val_accuracy: 0.9625\n",
            "Epoch 69/70\n",
            "30/30 [==============================] - 1s 18ms/step - loss: 0.0628 - accuracy: 0.9823 - val_loss: 0.1682 - val_accuracy: 0.9625\n",
            "Epoch 70/70\n",
            "30/30 [==============================] - 1s 19ms/step - loss: 0.0503 - accuracy: 0.9823 - val_loss: 0.1320 - val_accuracy: 0.9667\n"
          ]
        },
        {
          "output_type": "display_data",
          "data": {
            "image/png": "[encoded data removed]",
            "text/plain": [
              "<Figure size 432x288 with 1 Axes>"
            ]
          },
          "metadata": {
            "needs_background": "light"
          }
        }
      ]
    },
    {
      "cell_type": "markdown",
      "metadata": {
        "id": "9JFLu0CdXM6K"
      },
      "source": [
        "**What interesting observations** do you make from the graph? How many epochs should you train for?\n",
        "\n",
        "We can also print out the structure of our model. What do the parts of the summary mean?"
      ]
    },
    {
      "cell_type": "code",
      "metadata": {
        "id": "RGwXs3C8YZl-",
        "colab": {
          "base_uri": "https://localhost:8080/"
        },
        "outputId": "fa285a66-9516-4339-8659-d561bda4b1fc"
      },
      "source": [
        "model.summary()"
      ],
      "execution_count": null,
      "outputs": [
        {
          "output_type": "stream",
          "name": "stdout",
          "text": [
            "Model: \"sequential_54\"\n",
            "_________________________________________________________________\n",
            " Layer (type)                Output Shape              Param #   \n",
            "=================================================================\n",
            " reshape_13 (Reshape)        (None, 32, 32, 3)         0         \n",
            "                                                                 \n",
            " conv2d_33 (Conv2D)          (None, 32, 32, 32)        896       \n",
            "                                                                 \n",
            " activation_59 (Activation)  (None, 32, 32, 32)        0         \n",
            "                                                                 \n",
            " max_pooling2d_18 (MaxPoolin  (None, 16, 16, 32)       0         \n",
            " g2D)                                                            \n",
            "                                                                 \n",
            " dense_155 (Dense)           (None, 16, 16, 100)       3300      \n",
            "                                                                 \n",
            " max_pooling2d_19 (MaxPoolin  (None, 8, 8, 100)        0         \n",
            " g2D)                                                            \n",
            "                                                                 \n",
            " dense_156 (Dense)           (None, 8, 8, 100)         10100     \n",
            "                                                                 \n",
            " conv2d_34 (Conv2D)          (None, 8, 8, 32)          28832     \n",
            "                                                                 \n",
            " dropout_17 (Dropout)        (None, 8, 8, 32)          0         \n",
            "                                                                 \n",
            " dense_157 (Dense)           (None, 8, 8, 100)         3300      \n",
            "                                                                 \n",
            " conv2d_35 (Conv2D)          (None, 8, 8, 32)          28832     \n",
            "                                                                 \n",
            " dropout_18 (Dropout)        (None, 8, 8, 32)          0         \n",
            "                                                                 \n",
            " dense_158 (Dense)           (None, 8, 8, 100)         3300      \n",
            "                                                                 \n",
            " flatten_13 (Flatten)        (None, 6400)              0         \n",
            "                                                                 \n",
            " dense_159 (Dense)           (None, 512)               3277312   \n",
            "                                                                 \n",
            " activation_60 (Activation)  (None, 512)               0         \n",
            "                                                                 \n",
            " dense_160 (Dense)           (None, 2)                 1026      \n",
            "                                                                 \n",
            " activation_61 (Activation)  (None, 2)                 0         \n",
            "                                                                 \n",
            "=================================================================\n",
            "Total params: 3,356,898\n",
            "Trainable params: 3,356,898\n",
            "Non-trainable params: 0\n",
            "_________________________________________________________________\n"
          ]
        }
      ]
    },
    {
      "cell_type": "code",
      "metadata": {
        "id": "6gU39z3jNMAt",
        "colab": {
          "base_uri": "https://localhost:8080/"
        },
        "outputId": "079e611a-3c92-4de2-ced7-de54f7e928d8"
      },
      "source": [
        "#@title Run this to load cat and dog data. { display-mode: \"form\" }\n",
        "\n",
        "#Code here from https://colab.research.google.com/github/google/eng-edu/blob/master/ml/pc/exercises/image_classification_part1.ipynb#scrollTo=4PIP1rkmeAYS\n",
        "\n",
        "import tensorflow as tf\n",
        "import os \n",
        "from tensorflow.keras.preprocessing.image import ImageDataGenerator\n",
        "from google.colab.patches import cv2_imshow\n",
        "import cv2\n",
        "import matplotlib.pyplot as plt\n",
        "\n",
        "try:\n",
        "  road_model = model\n",
        "  road_saved = True\n",
        "except NameError:\n",
        "  road_saved = False\n",
        "\n",
        "IMG_SHAPE  = 150  # Our training data consists of images with width of 150 pixels and height of 150 pixels\n",
        "_URL = 'https://storage.googleapis.com/mledu-datasets/cats_and_dogs_filtered.zip'\n",
        "zip_dir = tf.keras.utils.get_file('cats_and_dogs_filterted.zip', origin=_URL, extract=True)\n",
        "base_dir = os.path.join(os.path.dirname(zip_dir), 'cats_and_dogs_filtered')\n",
        "train_dir = os.path.join(base_dir, 'train')\n",
        "validation_dir = os.path.join(base_dir, 'validation')\n",
        "\n",
        "train_cats_dir = os.path.join(train_dir, 'cats')  # directory with our training cat pictures\n",
        "train_dogs_dir = os.path.join(train_dir, 'dogs')  # directory with our training dog pictures\n",
        "validation_cats_dir = os.path.join(validation_dir, 'cats')  # directory with our validation cat pictures\n",
        "validation_dogs_dir = os.path.join(validation_dir, 'dogs')  # directory with our validation dog pictures\n",
        "train_image_generator      = ImageDataGenerator()  # Generator for our training data\n",
        "validation_image_generator = ImageDataGenerator()  # Generator for our validation data\n",
        "train_data = train_image_generator.flow_from_directory(batch_size=2000,\n",
        "                                                           directory=train_dir,\n",
        "                                                           shuffle=True,\n",
        "                                                           target_size=(IMG_SHAPE,IMG_SHAPE), #(150,150)\n",
        "                                                           class_mode='binary').next()\n",
        "val_data = validation_image_generator.flow_from_directory(batch_size=1000,\n",
        "                                                              directory=validation_dir,\n",
        "                                                              shuffle=False,\n",
        "                                                              target_size=(IMG_SHAPE,IMG_SHAPE), #(150,150)\n",
        "\n",
        "                                                              class_mode='binary').next()\n",
        "cd_train_inputs, cd_train_labels = train_data\n",
        "cd_test_inputs, cd_test_labels = val_data"
      ],
      "execution_count": null,
      "outputs": [
        {
          "output_type": "stream",
          "name": "stdout",
          "text": [
            "Downloading data from https://storage.googleapis.com/mledu-datasets/cats_and_dogs_filtered.zip\n",
            "68608000/68606236 [==============================] - 0s 0us/step\n",
            "68616192/68606236 [==============================] - 0s 0us/step\n",
            "Found 2000 images belonging to 2 classes.\n",
            "Found 1000 images belonging to 2 classes.\n"
          ]
        }
      ]
    },
    {
      "cell_type": "markdown",
      "metadata": {
        "id": "1y5etOJwScaG"
      },
      "source": [
        "**Run the code below to see the dimensions of our training and validation data. What does each number mean? What is different than our previous dataset?** "
      ]
    },
    {
      "cell_type": "code",
      "metadata": {
        "id": "kjdedJ0VNvWg",
        "colab": {
          "base_uri": "https://localhost:8080/"
        },
        "outputId": "1272cac9-42d2-4941-d647-4c0645c69d73"
      },
      "source": [
        "print (cd_train_inputs.shape) \n",
        "print (cd_train_labels.shape) \n",
        "print (cd_test_inputs.shape) \n",
        "print (cd_test_labels.shape) "
      ],
      "execution_count": null,
      "outputs": [
        {
          "output_type": "stream",
          "name": "stdout",
          "text": [
            "(2000, 150, 150, 3)\n",
            "(2000,)\n",
            "(1000, 150, 150, 3)\n",
            "(1000,)\n"
          ]
        }
      ]
    },
    {
      "cell_type": "code",
      "metadata": {
        "id": "AeuqlzigZZ8I",
        "colab": {
          "base_uri": "https://localhost:8080/",
          "height": 1000
        },
        "outputId": "870f9e1b-0bac-4b1d-b2e6-a3c3710e501f"
      },
      "source": [
        "model = Sequential()\n",
        "#TODO: Your code here to build, train, and test a cats vs. dogs CNN!\n",
        "#If you run into errors, see the hints above for help debugging! \n",
        "#\n",
        "#\n",
        "model.add(Reshape((150, 150, 3)))\n",
        "\n",
        "model.add(Conv2D(150, (3, 3), padding='same'))\n",
        "model.add(Activation('relu'))\n",
        "model.add(MaxPooling2D(pool_size=(2, 2)))\n",
        "\n",
        "\n",
        "### TODO: ADD MORE LAYERS HERE!!!!!\n",
        "model.add(Dense(100,activation='relu'))\n",
        "model.add(MaxPooling2D(pool_size=(2, 2)))\n",
        "model.add(Dense(100,activation='relu'))\n",
        "model.add(Conv2D(32, (3, 3), padding='same'))\n",
        "model.add(Dropout(0.5))\n",
        "model.add(Dense(100,activation='relu'))\n",
        "model.add(Conv2D(32, (3, 3), padding='same'))\n",
        "model.add(Dropout(0.5))\n",
        "model.add(Dense(100,activation='relu'))\n",
        "\n",
        "\n",
        "model.add(Flatten())\n",
        "model.add(Dense(512))\n",
        "model.add(Activation('relu'))\n",
        "model.add(Dense(2))\n",
        "model.add(Activation('softmax'))\n",
        "\n",
        "# initiate RMSprop optimizer\n",
        "opt = keras.optimizers.RMSprop(learning_rate=0.0001, decay=1e-6)\n",
        "\n",
        "# Let's train the model using RMSprop\n",
        "model.compile(loss='categorical_crossentropy',\n",
        "              optimizer=opt,\n",
        "              metrics=['accuracy'])\n",
        "\n",
        "# Train the CNN and plot accuracy.\n",
        "history = model.fit(cd_train_inputs, to_categorical(cd_train_labels), \\\n",
        "                    validation_data=(cd_test_inputs, to_categorical(cd_test_labels)), \\\n",
        "                    epochs=70)\n",
        "plot_acc(history)"
      ],
      "execution_count": null,
      "outputs": [
        {
          "output_type": "stream",
          "name": "stdout",
          "text": [
            "Epoch 1/70\n",
            "63/63 [==============================] - 22s 308ms/step - loss: 26.5707 - accuracy: 0.5115 - val_loss: 3.6869 - val_accuracy: 0.5000\n",
            "Epoch 2/70\n",
            "63/63 [==============================] - 18s 287ms/step - loss: 3.4170 - accuracy: 0.5125 - val_loss: 1.4082 - val_accuracy: 0.5030\n",
            "Epoch 3/70\n",
            "63/63 [==============================] - 18s 290ms/step - loss: 2.1274 - accuracy: 0.5080 - val_loss: 1.1508 - val_accuracy: 0.5000\n",
            "Epoch 4/70\n",
            "63/63 [==============================] - 18s 289ms/step - loss: 1.3852 - accuracy: 0.5515 - val_loss: 1.3881 - val_accuracy: 0.5030\n",
            "Epoch 5/70\n",
            "63/63 [==============================] - 18s 288ms/step - loss: 1.1358 - accuracy: 0.5475 - val_loss: 0.7213 - val_accuracy: 0.5940\n",
            "Epoch 6/70\n",
            "63/63 [==============================] - 18s 289ms/step - loss: 0.8619 - accuracy: 0.6110 - val_loss: 0.5975 - val_accuracy: 0.6670\n",
            "Epoch 7/70\n",
            "63/63 [==============================] - 18s 288ms/step - loss: 0.7473 - accuracy: 0.6125 - val_loss: 0.5885 - val_accuracy: 0.6770\n",
            "Epoch 8/70\n",
            "63/63 [==============================] - 18s 288ms/step - loss: 0.6643 - accuracy: 0.6620 - val_loss: 0.5955 - val_accuracy: 0.6650\n",
            "Epoch 9/70\n",
            "63/63 [==============================] - 18s 288ms/step - loss: 0.6114 - accuracy: 0.6735 - val_loss: 0.5897 - val_accuracy: 0.6960\n",
            "Epoch 10/70\n",
            "63/63 [==============================] - 18s 287ms/step - loss: 0.5500 - accuracy: 0.7235 - val_loss: 0.5937 - val_accuracy: 0.6790\n",
            "Epoch 11/70\n",
            "63/63 [==============================] - 18s 288ms/step - loss: 0.5530 - accuracy: 0.7190 - val_loss: 0.6073 - val_accuracy: 0.6680\n",
            "Epoch 12/70\n",
            "63/63 [==============================] - 18s 287ms/step - loss: 0.5247 - accuracy: 0.7440 - val_loss: 0.6425 - val_accuracy: 0.6770\n",
            "Epoch 13/70\n",
            "63/63 [==============================] - 18s 290ms/step - loss: 0.5206 - accuracy: 0.7415 - val_loss: 0.5874 - val_accuracy: 0.6910\n",
            "Epoch 14/70\n",
            "63/63 [==============================] - 18s 287ms/step - loss: 0.4849 - accuracy: 0.7635 - val_loss: 0.5838 - val_accuracy: 0.7070\n",
            "Epoch 15/70\n",
            "63/63 [==============================] - 18s 288ms/step - loss: 0.4799 - accuracy: 0.7690 - val_loss: 0.5854 - val_accuracy: 0.6880\n",
            "Epoch 16/70\n",
            "63/63 [==============================] - 18s 286ms/step - loss: 0.4458 - accuracy: 0.7930 - val_loss: 0.6411 - val_accuracy: 0.6680\n",
            "Epoch 17/70\n",
            "63/63 [==============================] - 18s 287ms/step - loss: 0.4133 - accuracy: 0.8020 - val_loss: 0.6495 - val_accuracy: 0.7000\n",
            "Epoch 18/70\n",
            "63/63 [==============================] - 18s 287ms/step - loss: 0.3970 - accuracy: 0.8260 - val_loss: 0.6187 - val_accuracy: 0.6780\n",
            "Epoch 19/70\n",
            "63/63 [==============================] - 18s 287ms/step - loss: 0.3884 - accuracy: 0.8295 - val_loss: 0.5681 - val_accuracy: 0.7140\n",
            "Epoch 20/70\n",
            "63/63 [==============================] - 18s 287ms/step - loss: 0.3559 - accuracy: 0.8435 - val_loss: 0.6178 - val_accuracy: 0.6930\n",
            "Epoch 21/70\n",
            "63/63 [==============================] - 18s 287ms/step - loss: 0.3280 - accuracy: 0.8470 - val_loss: 0.6321 - val_accuracy: 0.7000\n",
            "Epoch 22/70\n",
            "63/63 [==============================] - 18s 287ms/step - loss: 0.3323 - accuracy: 0.8430 - val_loss: 0.6817 - val_accuracy: 0.6710\n",
            "Epoch 23/70\n",
            "63/63 [==============================] - 18s 287ms/step - loss: 0.2793 - accuracy: 0.8785 - val_loss: 0.6745 - val_accuracy: 0.7050\n",
            "Epoch 24/70\n",
            "63/63 [==============================] - 18s 287ms/step - loss: 0.2929 - accuracy: 0.8695 - val_loss: 0.6460 - val_accuracy: 0.7040\n",
            "Epoch 25/70\n",
            "63/63 [==============================] - 18s 286ms/step - loss: 0.2795 - accuracy: 0.8800 - val_loss: 0.6405 - val_accuracy: 0.7010\n",
            "Epoch 26/70\n",
            "63/63 [==============================] - 18s 287ms/step - loss: 0.2660 - accuracy: 0.8845 - val_loss: 0.6275 - val_accuracy: 0.7070\n",
            "Epoch 27/70\n",
            "63/63 [==============================] - 18s 288ms/step - loss: 0.2493 - accuracy: 0.8925 - val_loss: 0.6321 - val_accuracy: 0.6860\n",
            "Epoch 28/70\n",
            "63/63 [==============================] - 18s 287ms/step - loss: 0.2307 - accuracy: 0.9100 - val_loss: 0.6398 - val_accuracy: 0.7140\n",
            "Epoch 29/70\n",
            "63/63 [==============================] - 18s 286ms/step - loss: 0.2059 - accuracy: 0.9170 - val_loss: 0.7115 - val_accuracy: 0.7060\n",
            "Epoch 30/70\n",
            "63/63 [==============================] - 18s 286ms/step - loss: 0.2082 - accuracy: 0.9165 - val_loss: 0.7048 - val_accuracy: 0.7130\n",
            "Epoch 31/70\n",
            "63/63 [==============================] - 18s 287ms/step - loss: 0.2238 - accuracy: 0.9175 - val_loss: 0.6918 - val_accuracy: 0.7150\n",
            "Epoch 32/70\n",
            "63/63 [==============================] - 18s 287ms/step - loss: 0.1966 - accuracy: 0.9225 - val_loss: 0.7462 - val_accuracy: 0.7220\n",
            "Epoch 33/70\n",
            "63/63 [==============================] - 18s 285ms/step - loss: 0.1667 - accuracy: 0.9280 - val_loss: 0.7780 - val_accuracy: 0.7080\n",
            "Epoch 34/70\n",
            "63/63 [==============================] - 18s 286ms/step - loss: 0.1912 - accuracy: 0.9200 - val_loss: 0.7285 - val_accuracy: 0.7020\n",
            "Epoch 35/70\n",
            "63/63 [==============================] - 18s 287ms/step - loss: 0.1444 - accuracy: 0.9400 - val_loss: 0.8134 - val_accuracy: 0.7110\n",
            "Epoch 36/70\n",
            "63/63 [==============================] - 18s 287ms/step - loss: 0.1765 - accuracy: 0.9385 - val_loss: 0.7457 - val_accuracy: 0.7160\n",
            "Epoch 37/70\n",
            "63/63 [==============================] - 18s 287ms/step - loss: 0.1325 - accuracy: 0.9480 - val_loss: 0.7771 - val_accuracy: 0.7090\n",
            "Epoch 38/70\n",
            "63/63 [==============================] - 18s 287ms/step - loss: 0.1342 - accuracy: 0.9515 - val_loss: 0.8496 - val_accuracy: 0.7090\n",
            "Epoch 39/70\n",
            "63/63 [==============================] - 18s 287ms/step - loss: 0.1455 - accuracy: 0.9440 - val_loss: 0.7682 - val_accuracy: 0.7030\n",
            "Epoch 40/70\n",
            "63/63 [==============================] - 18s 286ms/step - loss: 0.1831 - accuracy: 0.9280 - val_loss: 0.7881 - val_accuracy: 0.7090\n",
            "Epoch 41/70\n",
            "63/63 [==============================] - 18s 287ms/step - loss: 0.0934 - accuracy: 0.9670 - val_loss: 0.8976 - val_accuracy: 0.7220\n",
            "Epoch 42/70\n",
            "63/63 [==============================] - 18s 285ms/step - loss: 0.1409 - accuracy: 0.9530 - val_loss: 0.9194 - val_accuracy: 0.7050\n",
            "Epoch 43/70\n",
            "63/63 [==============================] - 18s 287ms/step - loss: 0.1236 - accuracy: 0.9545 - val_loss: 0.9006 - val_accuracy: 0.7110\n",
            "Epoch 44/70\n",
            "63/63 [==============================] - 18s 286ms/step - loss: 0.1097 - accuracy: 0.9595 - val_loss: 1.1380 - val_accuracy: 0.6910\n",
            "Epoch 45/70\n",
            "63/63 [==============================] - 18s 285ms/step - loss: 0.1193 - accuracy: 0.9565 - val_loss: 0.9413 - val_accuracy: 0.7100\n",
            "Epoch 46/70\n",
            "63/63 [==============================] - 18s 286ms/step - loss: 0.0732 - accuracy: 0.9745 - val_loss: 0.9359 - val_accuracy: 0.6720\n",
            "Epoch 47/70\n",
            "63/63 [==============================] - 18s 288ms/step - loss: 0.0890 - accuracy: 0.9710 - val_loss: 1.0663 - val_accuracy: 0.6930\n",
            "Epoch 48/70\n",
            "63/63 [==============================] - 18s 287ms/step - loss: 0.1053 - accuracy: 0.9630 - val_loss: 1.0484 - val_accuracy: 0.6890\n",
            "Epoch 49/70\n",
            "63/63 [==============================] - 18s 286ms/step - loss: 0.0699 - accuracy: 0.9735 - val_loss: 1.0908 - val_accuracy: 0.6900\n",
            "Epoch 50/70\n",
            "63/63 [==============================] - 18s 287ms/step - loss: 0.0943 - accuracy: 0.9710 - val_loss: 1.1224 - val_accuracy: 0.6840\n",
            "Epoch 51/70\n",
            "63/63 [==============================] - 18s 288ms/step - loss: 0.0764 - accuracy: 0.9715 - val_loss: 1.0312 - val_accuracy: 0.6900\n",
            "Epoch 52/70\n",
            "63/63 [==============================] - 18s 287ms/step - loss: 0.0918 - accuracy: 0.9690 - val_loss: 1.1026 - val_accuracy: 0.7170\n",
            "Epoch 53/70\n",
            "63/63 [==============================] - 18s 287ms/step - loss: 0.0625 - accuracy: 0.9765 - val_loss: 1.1562 - val_accuracy: 0.7000\n",
            "Epoch 54/70\n",
            "63/63 [==============================] - 18s 286ms/step - loss: 0.0560 - accuracy: 0.9805 - val_loss: 1.3780 - val_accuracy: 0.6800\n",
            "Epoch 55/70\n",
            "63/63 [==============================] - 18s 288ms/step - loss: 0.0874 - accuracy: 0.9720 - val_loss: 1.0468 - val_accuracy: 0.6990\n",
            "Epoch 56/70\n",
            "63/63 [==============================] - 18s 287ms/step - loss: 0.0490 - accuracy: 0.9820 - val_loss: 1.1845 - val_accuracy: 0.7040\n",
            "Epoch 57/70\n",
            "63/63 [==============================] - 18s 288ms/step - loss: 0.0935 - accuracy: 0.9715 - val_loss: 1.0380 - val_accuracy: 0.6890\n",
            "Epoch 58/70\n",
            "63/63 [==============================] - 18s 286ms/step - loss: 0.0600 - accuracy: 0.9835 - val_loss: 1.2381 - val_accuracy: 0.7050\n",
            "Epoch 59/70\n",
            "63/63 [==============================] - 18s 288ms/step - loss: 0.0502 - accuracy: 0.9810 - val_loss: 1.3731 - val_accuracy: 0.6920\n",
            "Epoch 60/70\n",
            "63/63 [==============================] - 18s 287ms/step - loss: 0.0569 - accuracy: 0.9820 - val_loss: 1.2134 - val_accuracy: 0.7040\n",
            "Epoch 61/70\n",
            "63/63 [==============================] - 18s 288ms/step - loss: 0.0651 - accuracy: 0.9825 - val_loss: 1.4244 - val_accuracy: 0.6990\n",
            "Epoch 62/70\n",
            "63/63 [==============================] - 18s 286ms/step - loss: 0.0528 - accuracy: 0.9820 - val_loss: 1.4227 - val_accuracy: 0.6980\n",
            "Epoch 63/70\n",
            "63/63 [==============================] - 18s 288ms/step - loss: 0.0582 - accuracy: 0.9800 - val_loss: 1.3644 - val_accuracy: 0.7070\n",
            "Epoch 64/70\n",
            "63/63 [==============================] - 18s 287ms/step - loss: 0.0462 - accuracy: 0.9845 - val_loss: 1.3296 - val_accuracy: 0.6940\n",
            "Epoch 65/70\n",
            "63/63 [==============================] - 18s 287ms/step - loss: 0.0760 - accuracy: 0.9795 - val_loss: 1.1991 - val_accuracy: 0.7160\n",
            "Epoch 66/70\n",
            "63/63 [==============================] - 18s 288ms/step - loss: 0.0428 - accuracy: 0.9870 - val_loss: 1.9869 - val_accuracy: 0.6480\n",
            "Epoch 67/70\n",
            "63/63 [==============================] - 18s 290ms/step - loss: 0.0528 - accuracy: 0.9845 - val_loss: 1.5607 - val_accuracy: 0.6970\n",
            "Epoch 68/70\n",
            "63/63 [==============================] - 18s 289ms/step - loss: 0.0539 - accuracy: 0.9800 - val_loss: 1.3129 - val_accuracy: 0.6950\n",
            "Epoch 69/70\n",
            "63/63 [==============================] - 18s 288ms/step - loss: 0.0394 - accuracy: 0.9855 - val_loss: 1.4291 - val_accuracy: 0.6870\n",
            "Epoch 70/70\n",
            "63/63 [==============================] - 18s 288ms/step - loss: 0.0445 - accuracy: 0.9870 - val_loss: 1.4274 - val_accuracy: 0.6800\n"
          ]
        },
        {
          "output_type": "display_data",
          "data": {
            "image/png": "[encoded data removed]",
            "text/plain": [
              "<Figure size 432x288 with 1 Axes>"
            ]
          },
          "metadata": {
            "needs_background": "light"
          }
        }
      ]
    }
  ]
}